{
 "cells": [
  {
   "cell_type": "markdown",
   "id": "09762a61",
   "metadata": {},
   "source": [
    "# HW6_97110069"
   ]
  },
  {
   "cell_type": "markdown",
   "id": "5f7e7a25",
   "metadata": {},
   "source": [
    "### 1)\n",
    "Explanations for risk based and behavioural stand points have been highlighted in 'Explanations for the Momentum Premium.pdf'."
   ]
  },
  {
   "cell_type": "markdown",
   "id": "e6e9b051",
   "metadata": {},
   "source": [
    "### 2)\n",
    "Items A to C from page 708 to 711 are the reasons we are looking at post-ranking returns. I have highlighted reasons in green."
   ]
  },
  {
   "cell_type": "code",
   "execution_count": 117,
   "id": "09a58d5c",
   "metadata": {},
   "outputs": [],
   "source": [
    "import pandas as pd\n",
    "import numpy as np\n",
    "import datetime\n",
    "import matplotlib.pyplot as plt"
   ]
  },
  {
   "cell_type": "code",
   "execution_count": 48,
   "id": "5502f5d8",
   "metadata": {},
   "outputs": [
    {
     "name": "stdout",
     "output_type": "stream",
     "text": [
      "378\n"
     ]
    }
   ],
   "source": [
    "def read_data():\n",
    "    market_cap = pd.read_excel('monthly market cap panel.xlsx')\n",
    "    market_cap.set_index('idx')\n",
    "    market_cap = market_cap.dropna(axis=1, how='all')\n",
    "    returns = pd.read_excel('monthly adj_returns panel.xlsx')\n",
    "    returns.set_index('idx')\n",
    "    returns = returns.dropna(axis=1, how='all')\n",
    "    return market_cap , returns\n",
    "\n",
    "market_cap , returns = read_data()\n",
    "print(len(returns.columns))"
   ]
  },
  {
   "cell_type": "code",
   "execution_count": 49,
   "id": "b862816e",
   "metadata": {},
   "outputs": [],
   "source": [
    "def get_small_market_caps():\n",
    "    x = market_cap.mean()\n",
    "    small_market_caps = x[x < x.quantile(0.1)]\n",
    "    small_market_cap_indexes = small_market_caps.index\n",
    "    return small_market_cap_indexes\n",
    "\n",
    "small_mcap_stocks = get_small_market_caps()\n",
    "returns = returns.drop(columns = small_mcap_stocks,axis = 1)"
   ]
  },
  {
   "cell_type": "code",
   "execution_count": 202,
   "id": "eacca466",
   "metadata": {},
   "outputs": [],
   "source": [
    "class MomentumStrategy:\n",
    "    def __init__(self, rank_period, hold_period, returns):\n",
    "        self.rank_period = rank_period\n",
    "        self.hold_period = hold_period\n",
    "        self.returns = returns\n",
    "        self.get_cumprod_returns()\n",
    "        self.holding_returns = None\n",
    "        self.ranking_returns = None\n",
    "        self.get_returns_for_rank_and_hold()\n",
    "        self.positions = []\n",
    "        self.portfolio_return = [0] * (len(self.returns) + 20)\n",
    "        \n",
    "    def get_cumprod_returns(self):\n",
    "        self.returns.fillna(1, inplace = True)\n",
    "        self.returns = self.returns.cumprod()\n",
    "        \n",
    "    def get_returns_for_rank_and_hold(self):\n",
    "        \n",
    "        self.ranking_returns = self.returns.div(self.returns.shift(self.rank_period))\n",
    "        self.ranking_returns -= 1\n",
    "#         self.holding_returns = self.returns.shift(-self.hold_period).div(self.returns)\n",
    "    \n",
    "    def get_portfolio_in_time(self):\n",
    "        for index in self.returns.index:\n",
    "#             TODO : 3 -> len(df)//10\n",
    "            highest_return_stocks = self.ranking_returns.loc[index].nlargest(len(self.returns)//10).to_frame().T.columns\n",
    "#             print(highest_return_stocks)\n",
    "            if len(highest_return_stocks) > 0:\n",
    "                position = Position(self.ranking_returns,index, highest_return_stocks, self.hold_period)\n",
    "                position.get_position_return()\n",
    "                self.positions.append(position)\n",
    "    \n",
    "    def get_return_in_time(self):\n",
    "        for position in self.positions:\n",
    "            for i in range(position.index, position.index + self.hold_period):\n",
    "                try:\n",
    "                    j = 0\n",
    "                    if len(position.position_returns) > j:\n",
    "                        self.portfolio_return[i] += position.position_returns[j]\n",
    "                    j += 1\n",
    "                except Exception as e:\n",
    "                    print(position.position_returns)\n",
    "                    \n",
    "                    \n",
    "#         print('all returns are:', self.portfolio_return)\n",
    "\n",
    "\n",
    "class Position:\n",
    "    def __init__(self, returns, index, stocks, holding_period):\n",
    "#         print('stocks',stocks)\n",
    "        self.returns = returns.loc[index:index + holding_period - 1,stocks]\n",
    "#         print('returns',self.returns)\n",
    "        self.hold_period = holding_period\n",
    "        self.index = index\n",
    "        self.num_of_stocks = len(stocks)\n",
    "        self.position_returns = [0] * holding_period\n",
    "        \n",
    "    \n",
    "    def get_position_return(self):\n",
    "        for column in self.returns.columns:\n",
    "            self.returns[column] /= self.num_of_stocks\n",
    "            return_of_stock = self.returns[column].to_list()\n",
    "            \n",
    "            for i in range(len(return_of_stock)):\n",
    "#                 print(i)\n",
    "                self.position_returns[i] += return_of_stock[i]  \n",
    "            \n",
    "            \n",
    "        \n",
    "        \n",
    "        \n",
    "\n"
   ]
  },
  {
   "cell_type": "code",
   "execution_count": 203,
   "id": "7fd83db2",
   "metadata": {},
   "outputs": [],
   "source": [
    "m = MomentumStrategy(6 , 5 , returns.copy(deep = True))\n",
    "m.get_portfolio_in_time()\n",
    "m.get_return_in_time()"
   ]
  },
  {
   "cell_type": "code",
   "execution_count": 210,
   "id": "699ccc98",
   "metadata": {},
   "outputs": [],
   "source": [
    "l = np.asarray(m.portfolio_return)\n",
    "l = l[l != 0]\n"
   ]
  },
  {
   "cell_type": "code",
   "execution_count": 218,
   "id": "a1401c48",
   "metadata": {},
   "outputs": [
    {
     "name": "stdout",
     "output_type": "stream",
     "text": [
      "1 1 0.06430895981936655\n",
      "1 2 0.12478696117873347\n",
      "1 3 0.2071189835888003\n",
      "1 4 0.2352717988588011\n",
      "2 1 0.12004353499894987\n",
      "2 2 0.140277033745137\n",
      "2 3 0.15465232354771014\n",
      "2 4 0.16414415456112416\n",
      "3 1 0.08631318261570081\n",
      "3 2 0.09674540694781066\n",
      "3 3 0.10007487185255182\n",
      "3 4 0.09889831421689818\n",
      "4 1 0.07921789088514765\n",
      "4 2 0.08570452121193727\n",
      "4 3 0.08576227761434685\n",
      "4 4 0.07832179813981151\n"
     ]
    }
   ],
   "source": [
    "for i in range(1, 5):\n",
    "    for j in range(1 , 5):\n",
    "        m = MomentumStrategy(i , j , returns.copy(deep = True))\n",
    "        m.get_portfolio_in_time()\n",
    "        m.get_return_in_time()\n",
    "        l = np.asarray(m.portfolio_return)\n",
    "        l = l[l != 0]\n",
    "        print(i , j ,np.mean(l[:-10]))"
   ]
  },
  {
   "cell_type": "code",
   "execution_count": null,
   "id": "8897ce63",
   "metadata": {},
   "outputs": [],
   "source": []
  }
 ],
 "metadata": {
  "kernelspec": {
   "display_name": "Python 3 (ipykernel)",
   "language": "python",
   "name": "python3"
  },
  "language_info": {
   "codemirror_mode": {
    "name": "ipython",
    "version": 3
   },
   "file_extension": ".py",
   "mimetype": "text/x-python",
   "name": "python",
   "nbconvert_exporter": "python",
   "pygments_lexer": "ipython3",
   "version": "3.7.3"
  }
 },
 "nbformat": 4,
 "nbformat_minor": 5
}
